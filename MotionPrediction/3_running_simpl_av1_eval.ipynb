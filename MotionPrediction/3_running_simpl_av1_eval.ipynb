{
 "cells": [
  {
   "cell_type": "code",
   "execution_count": 1,
   "id": "7f347f5c-a563-497e-8033-a88e803a9fa1",
   "metadata": {},
   "outputs": [
    {
     "name": "stdout",
     "output_type": "stream",
     "text": [
      "Args: Namespace(mode='val', features_dir='data_argo/features/', train_batch_size=16, val_batch_size=16, use_cuda=True, data_aug=False, adv_cfg_path='config.simpl_cfg', model_path='saved_models/simpl_av1_ckpt.tar')\n",
      "\n",
      "[Loader] load adv_cfg from config.simpl_cfg\n",
      "dels/simpl_av1_ckpt.tardict from saved_mo\n",
      "[Loader] load dataset ArgoDataset from simpl.av1_dataset\n",
      " data_argo/features/train/\n",
      "[Dataset] Dataset Info:\n",
      "-- mode:  train\n",
      "-- total frames:  1025\n",
      ":  20s_len\n",
      "-- pred_len:  30\n",
      "-- seq_len:  50\n",
      "-- aug:  False\n",
      "[Dataset] preparing data_argo/features/val/\n",
      "ataset] Dataset Info:\n",
      "-- mode:  val\n",
      "-- total frames:  1024\n",
      "-- obs_len:  20\n",
      "-- pred_len:  30\n",
      "en:  50l\n",
      "-- aug:  False\n",
      "[Loader] load network Simpl from simpl.simpl\n",
      "[Loader] network params:\n",
      "l: 1827965\n",
      "-- lane_net 169088\n",
      "-- pred_net 422461\n",
      "-- actor_net 422720\n",
      "-- fusion_net 813696\n",
      "oading loss LossFunc from simpl.av1_loss_fn\n"
     ]
    },
    {
     "name": "stderr",
     "output_type": "stream",
     "text": [
      "/opt/anaconda3/envs/simplav1av2/lib/python3.13/site-packages/torch/utils/data/dataloader.py:683: UserWarning: 'pin_memory' argument is set as true but not supported on MPS now, then device pinned memory won't be used.\n",
      "  warnings.warn(warn_msg)\n",
      "��██████████| 64/64 [01:41<00:00,  1.58s/it]   | 36/64 [00:28<00:36,  1.02it/s]\n"
     ]
    },
    {
     "name": "stdout",
     "output_type": "stream",
     "text": [
      "\n",
      "Validation set finish, cost 101.31 secs\n",
      " 3.193 minade_k: 0.652 minfde_k: 0.891 mr_k: 0.080 brier_fde_k: 1.507 \n",
      "\n",
      "Exit...\n"
     ]
    }
   ],
   "source": [
    "%%sh\n",
    "./scripts/simpl_av1_eval.sh"
   ]
  },
  {
   "cell_type": "code",
   "execution_count": null,
   "id": "18f3fa17-71a7-4f17-854a-b592df137727",
   "metadata": {},
   "outputs": [],
   "source": []
  }
 ],
 "metadata": {
  "kernelspec": {
   "display_name": "simplav1av2",
   "language": "python",
   "name": "simplav1av2"
  },
  "language_info": {
   "codemirror_mode": {
    "name": "ipython",
    "version": 3
   },
   "file_extension": ".py",
   "mimetype": "text/x-python",
   "name": "python",
   "nbconvert_exporter": "python",
   "pygments_lexer": "ipython3",
   "version": "3.13.2"
  }
 },
 "nbformat": 4,
 "nbformat_minor": 5
}
