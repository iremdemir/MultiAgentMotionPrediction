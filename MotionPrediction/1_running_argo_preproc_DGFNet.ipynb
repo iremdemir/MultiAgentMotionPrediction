{
 "cells": [
  {
   "cell_type": "code",
   "execution_count": 2,
   "id": "aad62134-4500-4c0a-9870-33f6fc7d03f7",
   "metadata": {},
   "outputs": [
    {
     "name": "stdout",
     "output_type": "stream",
     "text": [
      "-- Processing val set...\n",
      "Num of sequences:  39472\n",
      "n_proc: 12, batch_size: 3290\n",
      "tures/valessed dataset to data_argo_dgfnet/fea\n",
      "Preprocess for val set completed in 7.19 mins\n",
      "Finish computing 36190 - 39480\n",
      "Finish computing 9870 - 13160\n",
      "Finish computing 16450 - 19740\n",
      "Finish computing 13160 - 16450\n",
      "Finish computing 26320 - 29610\n",
      "Finish computing 6580 - 9870\n",
      "Finish computing 3290 - 6580\n",
      "Finish computing 0 - 3290\n",
      "Finish computing 19740 - 23030\n",
      "Finish computing 29610 - 32900\n",
      "Finish computing 23030 - 26320\n",
      "Finish computing 32900 - 36190\n",
      "-- Processing train set...\n",
      "Num of sequences:  205942\n",
      "n_proc: 12, batch_size: 17162\n",
      "eatures/traind dataset to data_argo_dgfnet/f\n",
      "Preprocess for train set completed in 43.32 mins\n",
      "Finish computing 85810 - 102972\n",
      "Finish computing 17162 - 34324\n",
      "Finish computing 102972 - 120134\n",
      "Finish computing 188782 - 205944\n",
      "Finish computing 120134 - 137296\n",
      "Finish computing 51486 - 68648\n",
      "Finish computing 171620 - 188782\n",
      "Finish computing 137296 - 154458\n",
      "Finish computing 154458 - 171620\n",
      "Finish computing 0 - 17162\n",
      "Finish computing 68648 - 85810\n",
      "Finish computing 34324 - 51486\n",
      "-- Processing test set...\n",
      "Num of sequences:  78143\n",
      "n_proc: 12, batch_size: 6512\n",
      "tures/testssed dataset to data_argo_dgfnet/fea\n",
      "Preprocess for test set completed in 16.63 mins\n",
      "Finish computing 13024 - 19536\n",
      "Finish computing 52096 - 58608\n",
      "Finish computing 0 - 6512\n",
      "Finish computing 26048 - 32560\n",
      "Finish computing 71632 - 78144\n",
      "Finish computing 65120 - 71632\n",
      "Finish computing 19536 - 26048\n",
      "Finish computing 39072 - 45584\n",
      "Finish computing 58608 - 65120\n",
      "Finish computing 32560 - 39072\n",
      "Finish computing 45584 - 52096\n",
      "Finish computing 6512 - 13024\n"
     ]
    }
   ],
   "source": [
    "%%sh\n",
    "./scripts/argo_preproc.sh"
   ]
  },
  {
   "cell_type": "code",
   "execution_count": null,
   "id": "040d24d1-214a-4eaf-9493-020448417ecb",
   "metadata": {},
   "outputs": [],
   "source": []
  }
 ],
 "metadata": {
  "kernelspec": {
   "display_name": "simplav1av2",
   "language": "python",
   "name": "simplav1av2"
  },
  "language_info": {
   "codemirror_mode": {
    "name": "ipython",
    "version": 3
   },
   "file_extension": ".py",
   "mimetype": "text/x-python",
   "name": "python",
   "nbconvert_exporter": "python",
   "pygments_lexer": "ipython3",
   "version": "3.13.2"
  }
 },
 "nbformat": 4,
 "nbformat_minor": 5
}
