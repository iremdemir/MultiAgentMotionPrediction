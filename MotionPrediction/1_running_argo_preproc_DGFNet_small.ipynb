{
 "cells": [
  {
   "cell_type": "code",
   "execution_count": 2,
   "id": "aad62134-4500-4c0a-9870-33f6fc7d03f7",
   "metadata": {},
   "outputs": [
    {
     "name": "stdout",
     "output_type": "stream",
     "text": [
      "-- Processing val set...\n",
      "Num of sequences:  1024\n",
      "n_proc: 12, batch_size: 86\n",
      "features/valed dataset to data_argo_dgfnet_small/\n",
      "Preprocess for val set completed in 0.22 mins\n",
      "Finish computing 258 - 344\n",
      "Finish computing 774 - 860\n",
      "Finish computing 86 - 172\n",
      "Finish computing 946 - 1032\n",
      "Finish computing 430 - 516\n",
      "Finish computing 172 - 258\n",
      "Finish computing 602 - 688\n",
      "Finish computing 344 - 430\n",
      "Finish computing 516 - 602\n",
      "Finish computing 860 - 946\n",
      "Finish computing 688 - 774\n",
      "Finish computing 0 - 86\n",
      "-- Processing train set...\n",
      "Num of sequences:  1024\n",
      "n_proc: 12, batch_size: 86\n",
      "features/train dataset to data_argo_dgfnet_small/\n",
      "Preprocess for train set completed in 0.22 mins\n",
      "Finish computing 946 - 1032\n",
      "Finish computing 860 - 946\n",
      "Finish computing 602 - 688\n",
      "Finish computing 0 - 86\n",
      "Finish computing 774 - 860\n",
      "Finish computing 344 - 430\n",
      "Finish computing 688 - 774\n",
      "Finish computing 516 - 602\n",
      "Finish computing 258 - 344\n",
      "Finish computing 172 - 258\n",
      "Finish computing 430 - 516\n",
      "Finish computing 86 - 172\n",
      "-- Processing test set...\n",
      "Num of sequences:  1024\n",
      "n_proc: 12, batch_size: 86\n",
      "features/testd dataset to data_argo_dgfnet_small/\n",
      "Preprocess for test set completed in 0.23 mins\n",
      "Finish computing 946 - 1032\n",
      "Finish computing 0 - 86\n",
      "Finish computing 258 - 344\n",
      "Finish computing 602 - 688\n",
      "Finish computing 860 - 946\n",
      "Finish computing 774 - 860\n",
      "Finish computing 430 - 516\n",
      "Finish computing 86 - 172\n",
      "Finish computing 172 - 258\n",
      "Finish computing 688 - 774\n",
      "Finish computing 516 - 602\n",
      "Finish computing 344 - 430\n"
     ]
    }
   ],
   "source": [
    "%%sh\n",
    "./scripts/argo_preproc_small_DFGNet.sh"
   ]
  },
  {
   "cell_type": "code",
   "execution_count": null,
   "id": "040d24d1-214a-4eaf-9493-020448417ecb",
   "metadata": {},
   "outputs": [],
   "source": []
  }
 ],
 "metadata": {
  "kernelspec": {
   "display_name": "simplav1av2",
   "language": "python",
   "name": "simplav1av2"
  },
  "language_info": {
   "codemirror_mode": {
    "name": "ipython",
    "version": 3
   },
   "file_extension": ".py",
   "mimetype": "text/x-python",
   "name": "python",
   "nbconvert_exporter": "python",
   "pygments_lexer": "ipython3",
   "version": "3.13.2"
  }
 },
 "nbformat": 4,
 "nbformat_minor": 5
}
