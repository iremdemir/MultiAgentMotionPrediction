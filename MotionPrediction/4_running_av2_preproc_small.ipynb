{
 "cells": [
  {
   "cell_type": "code",
   "execution_count": 40,
   "id": "e62eb9d8-1a86-4f6c-8cc2-d3740802d403",
   "metadata": {},
   "outputs": [
    {
     "ename": "ImportError",
     "evalue": "cannot import name 'cascaded_union' from 'shapely.ops' (/opt/anaconda3/envs/simplav1av2/lib/python3.13/site-packages/shapely/ops.py)",
     "output_type": "error",
     "traceback": [
      "\u001b[31m---------------------------------------------------------------------------\u001b[39m",
      "\u001b[31mImportError\u001b[39m                               Traceback (most recent call last)",
      "\u001b[36mCell\u001b[39m\u001b[36m \u001b[39m\u001b[32mIn[40]\u001b[39m\u001b[32m, line 1\u001b[39m\n\u001b[32m----> \u001b[39m\u001b[32m1\u001b[39m \u001b[38;5;28;01mfrom\u001b[39;00m\u001b[38;5;250m \u001b[39m\u001b[34;01mshapely\u001b[39;00m\u001b[34;01m.\u001b[39;00m\u001b[34;01mops\u001b[39;00m\u001b[38;5;250m \u001b[39m\u001b[38;5;28;01mimport\u001b[39;00m cascaded_union, nearest_points, unary_union\n",
      "\u001b[31mImportError\u001b[39m: cannot import name 'cascaded_union' from 'shapely.ops' (/opt/anaconda3/envs/simplav1av2/lib/python3.13/site-packages/shapely/ops.py)"
     ]
    }
   ],
   "source": [
    "from shapely.ops import cascaded_union, nearest_points, unary_union\n",
    "# data_argo argo_preprocess.py"
   ]
  },
  {
   "cell_type": "code",
   "execution_count": 1,
   "id": "aad62134-4500-4c0a-9870-33f6fc7d03f7",
   "metadata": {},
   "outputs": [
    {
     "name": "stdout",
     "output_type": "stream",
     "text": [
      "-- Processing AV2 val set...\n",
      "Num of sequences:  1024\n",
      "n_proc: 12, batch_size: 86\n",
      "save processed dataset to data_av2/features/val\n",
      "Preprocess for val set completed in 0.22753766377766926 mins\n",
      "Finish computing 946 - 1032\n",
      "Finish computing 774 - 860\n",
      "Finish computing 516 - 602\n",
      "Finish computing 688 - 774\n",
      "Finish computing 430 - 516\n",
      "Finish computing 602 - 688\n",
      "Finish computing 258 - 344\n",
      "Finish computing 860 - 946\n",
      "Finish computing 172 - 258\n",
      "Finish computing 344 - 430\n",
      "Finish computing 86 - 172\n",
      "Finish computing 0 - 86\n",
      "-- Processing AV2 train set...\n",
      "Num of sequences:  1024\n",
      "n_proc: 12, batch_size: 86\n",
      "save processed dataset to data_av2/features/train\n",
      "Preprocess for train set completed in 0.23805646498998007 mins\n",
      "Finish computing 946 - 1032\n",
      "Finish computing 258 - 344\n",
      "Finish computing 0 - 86\n",
      "Finish computing 516 - 602\n",
      "Finish computing 344 - 430\n",
      "Finish computing 688 - 774\n",
      "Finish computing 860 - 946\n",
      "Finish computing 430 - 516\n",
      "Finish computing 86 - 172\n",
      "Finish computing 774 - 860\n",
      "Finish computing 172 - 258\n",
      "Finish computing 602 - 688\n"
     ]
    }
   ],
   "source": [
    "%%sh\n",
    "./scripts/av2_preproc_small.sh"
   ]
  },
  {
   "cell_type": "code",
   "execution_count": null,
   "id": "040d24d1-214a-4eaf-9493-020448417ecb",
   "metadata": {},
   "outputs": [],
   "source": []
  }
 ],
 "metadata": {
  "kernelspec": {
   "display_name": "simplav1av2",
   "language": "python",
   "name": "simplav1av2"
  },
  "language_info": {
   "codemirror_mode": {
    "name": "ipython",
    "version": 3
   },
   "file_extension": ".py",
   "mimetype": "text/x-python",
   "name": "python",
   "nbconvert_exporter": "python",
   "pygments_lexer": "ipython3",
   "version": "3.13.2"
  }
 },
 "nbformat": 4,
 "nbformat_minor": 5
}
