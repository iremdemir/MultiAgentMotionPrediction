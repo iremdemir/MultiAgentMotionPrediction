{
 "cells": [
  {
   "cell_type": "code",
   "execution_count": 1,
   "id": "7f347f5c-a563-497e-8033-a88e803a9fa1",
   "metadata": {},
   "outputs": [
    {
     "name": "stdout",
     "output_type": "stream",
     "text": [
      "Args: Namespace(mode='val', features_dir='data_av2/features/', train_batch_size=16, val_batch_size=16, use_cuda=True, data_aug=False, adv_cfg_path='config.simpl_av2_cfg', model_path='saved_models/simpl_av2_bezier_ckpt-fix.tar')\n",
      "\n",
      "[Loader] load adv_cfg from config.simpl_av2_cfg\n",
      "dict from saved_models/simpl_av2_bezier_ckpt-fix.tar\n",
      "_dataset load dataset AV2Dataset from simpl.av2\n",
      "[Dataset] preparing data_av2/features/train/\n",
      "[Dataset] Dataset Info:\n",
      "-- mode:  train\n",
      "al frames:  1025\n",
      "-- obs_len:  50\n",
      "-- pred_len:  60\n",
      "-- seq_len:  110\n",
      "-- aug:  False\n",
      "g data_av2/features/val/\n",
      "[Dataset] Dataset Info:\n",
      "-- mode:  val\n",
      "-- total frames:  1024\n",
      "0- obs_len:  5\n",
      "-- pred_len:  60\n",
      "-- seq_len:  110\n",
      "-- aug:  False\n",
      "[Loader] load network Simpl from simpl.simpl\n",
      "der] network params:\n",
      "-- total: 2646481\n",
      "-- fusion_net 813696\n",
      "-- actor_net 1246144\n",
      "-- lane_net 169856\n",
      "-- pred_net 416785\n",
      "[Loader] loading loss LossFunc from simpl.av2_loss_fn\n"
     ]
    },
    {
     "name": "stderr",
     "output_type": "stream",
     "text": [
      "simplav1av2/lib/python3.13/site-packages/torch/utils/data/dataloader.py:683: UserWarning: 'pin_memory' argument is set as true but not supported on MPS now, then device pinned memory won't be used.\n",
      "warnings.warn(warn_msg)\n",
      "��██████████| 64/64 [01:50<00:00,  1.73s/it]   | 36/64 [00:31<00:36,  1.03it/s]\n"
     ]
    },
    {
     "name": "stdout",
     "output_type": "stream",
     "text": [
      "\n",
      "Validation set finish, cost 110.73 secs\n",
      " 5.625 minade_k: 0.775 minfde_k: 1.452 mr_k: 0.199 brier_fde_k: 2.071 \n",
      "\n",
      "Exit...\n"
     ]
    }
   ],
   "source": [
    "%%sh\n",
    "./scripts/simpl_av2_eval.sh"
   ]
  },
  {
   "cell_type": "code",
   "execution_count": null,
   "id": "18f3fa17-71a7-4f17-854a-b592df137727",
   "metadata": {},
   "outputs": [],
   "source": []
  }
 ],
 "metadata": {
  "kernelspec": {
   "display_name": "simplav1av2",
   "language": "python",
   "name": "simplav1av2"
  },
  "language_info": {
   "codemirror_mode": {
    "name": "ipython",
    "version": 3
   },
   "file_extension": ".py",
   "mimetype": "text/x-python",
   "name": "python",
   "nbconvert_exporter": "python",
   "pygments_lexer": "ipython3",
   "version": "3.13.2"
  }
 },
 "nbformat": 4,
 "nbformat_minor": 5
}
